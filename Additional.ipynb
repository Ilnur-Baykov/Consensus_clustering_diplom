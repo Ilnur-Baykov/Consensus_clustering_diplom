{
 "cells": [
  {
   "cell_type": "code",
   "execution_count": 1,
   "id": "e8f483db",
   "metadata": {},
   "outputs": [],
   "source": [
    "import copy\n",
    "# import networkx as nx\n",
    "import scipy as sp\n",
    "import matplotlib.pyplot as plt\n",
    "import numpy as np\n",
    "import random\n",
    "import sklearn\n",
    "from sklearn.cluster import AgglomerativeClustering\n",
    "from sklearn.cluster import KMeans\n",
    "from sklearn import preprocessing\n",
    "\n",
    "import matplotlib.pyplot as plt\n",
    "import math\n",
    "import queue\n",
    "import heapq\n",
    "\n",
    "import ClusterEnsembles as CE\n",
    "\n",
    "import warnings\n",
    "warnings.filterwarnings('ignore')"
   ]
  },
  {
   "cell_type": "code",
   "execution_count": 2,
   "id": "6457fa66",
   "metadata": {},
   "outputs": [],
   "source": [
    "my_random_seed = 23\n",
    "np.random.seed(my_random_seed)"
   ]
  },
  {
   "cell_type": "code",
   "execution_count": 63,
   "id": "05350d03",
   "metadata": {},
   "outputs": [],
   "source": [
    "list_of_num_clusters = np.array([25]) # 3, 7, 15,\n",
    "list_of_probability_out = np.array([10, 20, 30, 40, 50, 60, 70])\n",
    "list_of_kolvo = np.array([10, 25, 50, 75, 100])\n",
    "# list_of_kolvo = np.array([2, 3, 4, 5, 6, 7, 8, 9])\n",
    "tests = list(range(1, 51))\n",
    "colors = ['b', 'g', 'r', 'c', 'm', 'y', 'k', 'brown', 'orange']"
   ]
  },
  {
   "cell_type": "code",
   "execution_count": 43,
   "id": "8e37f910",
   "metadata": {},
   "outputs": [],
   "source": [
    "def load_test(num_cl, prob, test):\n",
    "    if test not in tests:\n",
    "        return [], [], []\n",
    "    file_name = '/Users/ilnurbaykov/HomeWork/diplom/tests/' + f'clusters{num_cl}/' + f'prob0_{prob}/' + f'test_{test}.txt'\n",
    "    f = open(file_name, 'r')\n",
    "    clusters = int(f.readline())\n",
    "    correct_dict = {}\n",
    "    correct = [0] * 1000\n",
    "    for cl in range(clusters):\n",
    "        line = list(map(int, f.readline().split()))\n",
    "        for el in line:\n",
    "            correct_dict[el] = cl\n",
    "            correct[el - 1] = cl\n",
    "#     print(clusters)\n",
    "#     print(correct)\n",
    "    prob = float(f.readline())\n",
    "    num_viborka = int(f.readline())\n",
    "#     print(prob)\n",
    "#     print(num_viborka)\n",
    "    vVib_dict = []\n",
    "    for vb in range(num_viborka):\n",
    "        viborka_dict = {}\n",
    "        for cl in range(clusters):\n",
    "            line = list(map(int, f.readline().split()))\n",
    "            for el in line:\n",
    "                viborka_dict[el] = cl\n",
    "        vVib_dict.append(viborka_dict)\n",
    "    return np.array(correct), np.array(correct_dict), np.array(vVib_dict)"
   ]
  },
  {
   "cell_type": "code",
   "execution_count": 44,
   "id": "fa2ad953",
   "metadata": {},
   "outputs": [],
   "source": [
    "def load_test_mcla(num_cl, prob, test):\n",
    "    if test not in tests:\n",
    "        return [], [], []\n",
    "    file_name = '/Users/ilnurbaykov/HomeWork/diplom/tests/' + f'clusters{num_cl}/' + f'prob0_{prob}/' + f'test_{test}.txt'\n",
    "    f = open(file_name, 'r')\n",
    "    clusters = int(f.readline())\n",
    "    correct = [0] * 1000\n",
    "    for cl in range(clusters):\n",
    "        line = list(map(int, f.readline().split()))\n",
    "        for el in line:\n",
    "            correct[el - 1] = cl\n",
    "#     print(clusters)\n",
    "#     print(correct)\n",
    "    prob = float(f.readline())\n",
    "    num_viborka = int(f.readline())\n",
    "#     print(prob)\n",
    "#     print(num_viborka)\n",
    "    vVib = []\n",
    "    for vb in range(num_viborka):\n",
    "        viborka = [0] * 1000\n",
    "        for cl in range(clusters):\n",
    "            line = list(map(int, f.readline().split()))\n",
    "            for el in line:\n",
    "                viborka[el - 1] = cl\n",
    "        vVib.append(viborka)\n",
    "    return np.array(correct), np.array(vVib)"
   ]
  },
  {
   "cell_type": "code",
   "execution_count": 45,
   "id": "d7dac27d",
   "metadata": {},
   "outputs": [],
   "source": [
    "def print_list_of_list(v):\n",
    "    for raw in v:\n",
    "        for el in raw:\n",
    "            print(str(el), end = ' ')\n",
    "        print()\n",
    "    return"
   ]
  },
  {
   "cell_type": "code",
   "execution_count": null,
   "id": "e54a2ef6",
   "metadata": {},
   "outputs": [],
   "source": []
  },
  {
   "cell_type": "code",
   "execution_count": 46,
   "id": "48ae6c5d",
   "metadata": {},
   "outputs": [],
   "source": [
    "def add_to_consensus_matrix(viborka_dict, consensus_matrix):\n",
    "    for i in range(1000):\n",
    "        for j in range(1000):\n",
    "            if (viborka_dict[i + 1] == viborka_dict[j + 1]):\n",
    "                consensus_matrix[i][j] += 1"
   ]
  },
  {
   "cell_type": "code",
   "execution_count": 47,
   "id": "c2aa6d9a",
   "metadata": {},
   "outputs": [],
   "source": [
    "def get_consensus_matrix(vVib_dict, kolvo, need_del = 1):\n",
    "    consensus_matrix = np.zeros((1000, 1000))\n",
    "    for i in range(kolvo):\n",
    "        add_to_consensus_matrix(vVib_dict[i], consensus_matrix)\n",
    "    if need_del:\n",
    "        consensus_matrix /= kolvo\n",
    "    return consensus_matrix"
   ]
  },
  {
   "cell_type": "code",
   "execution_count": 48,
   "id": "240ede96",
   "metadata": {},
   "outputs": [],
   "source": [
    "def get_mcla_matrix(vVib, kolvo):\n",
    "    answer = vVib[:kolvo]\n",
    "    return np.array(answer)"
   ]
  },
  {
   "cell_type": "code",
   "execution_count": 49,
   "id": "ed832fe2",
   "metadata": {},
   "outputs": [],
   "source": [
    "def add_to_kmeans_matrix(viborka_dict, idi, num_cl, consensus_matrix):\n",
    "    for i in range(1000):\n",
    "        idj = idi * num_cl + viborka_dict[i + 1]\n",
    "        consensus_matrix[i][idj] = 1.0"
   ]
  },
  {
   "cell_type": "code",
   "execution_count": 50,
   "id": "ace8c4a4",
   "metadata": {},
   "outputs": [],
   "source": [
    "def get_kmeans_matrix(vVib_dict, kolvo, num_cl):\n",
    "    consensus_matrix = np.zeros((1000, kolvo * num_cl))\n",
    "    for i in range(kolvo):\n",
    "        add_to_kmeans_matrix(vVib_dict[i], i, num_cl, consensus_matrix)\n",
    "    return consensus_matrix"
   ]
  },
  {
   "cell_type": "code",
   "execution_count": 51,
   "id": "f5eb347c",
   "metadata": {},
   "outputs": [],
   "source": [
    "def show_picture(consensus_matrix):\n",
    "    corr = np.corrcoef(consensus_matrix.T)\n",
    "\n",
    "    fig, ax = plt.subplots(1, 1)\n",
    "    coll = ax.imshow(corr, vmin=-1, vmax=1, cmap='viridis')\n",
    "    ax.set(xticklabels=[], yticklabels=[])\n",
    "    fig.colorbar(coll)"
   ]
  },
  {
   "cell_type": "code",
   "execution_count": 52,
   "id": "096c4b9a",
   "metadata": {},
   "outputs": [],
   "source": [
    "def get_distance_matrix(consensus_matrix):\n",
    "    exper_con_mat = copy.deepcopy(consensus_matrix)\n",
    "    exper_con_mat = 1 - exper_con_mat\n",
    "    np.fill_diagonal(exper_con_mat, 0)\n",
    "    return exper_con_mat"
   ]
  },
  {
   "cell_type": "code",
   "execution_count": 53,
   "id": "44b644a9",
   "metadata": {},
   "outputs": [],
   "source": [
    "def get_distance_matrix_log(consensus_matrix):\n",
    "    exper_con_mat = copy.deepcopy(consensus_matrix)\n",
    "    exper_con_mat = - np.log(exper_con_mat)\n",
    "    np.fill_diagonal(exper_con_mat, 0)\n",
    "    exper_con_mat[np.isinf(exper_con_mat)] = 10\n",
    "    return exper_con_mat"
   ]
  },
  {
   "cell_type": "code",
   "execution_count": 54,
   "id": "645286e2",
   "metadata": {},
   "outputs": [],
   "source": [
    "def get_R(cons_matrix):\n",
    "    answer = np.zeros((len(cons_matrix[0]), len(cons_matrix[0])))\n",
    "    my_sum = np.sum(cons_matrix) #* cons_matrix[0][0]\n",
    "    sum_col1 = np.sum(cons_matrix, axis=0)\n",
    "    sum_col2 = np.sum(cons_matrix, axis=0)\n",
    "    sum_col1 = sum_col1.reshape(1, len(sum_col1))\n",
    "    sum_col2 = sum_col2.reshape(len(sum_col2), 1)\n",
    "    answer = sum_col1 * sum_col2\n",
    "    answer /= my_sum\n",
    "    return answer"
   ]
  },
  {
   "cell_type": "code",
   "execution_count": 55,
   "id": "d94aa829",
   "metadata": {},
   "outputs": [],
   "source": [
    "def save_results_to_file(results, num_cl, is_ari, algo_name, is_two):\n",
    "    name = '/Users/ilnurbaykov/HomeWork/diplom' + f'/answers/' + f'clusters{num_cl}/{algo_name}'\n",
    "    if is_ari:\n",
    "        name += '/ari'\n",
    "    else:\n",
    "        name += '/ami'\n",
    "    if is_two:\n",
    "        name += '_2_9'\n",
    "    name += '.txt'\n",
    "    f = open(name, 'w+')\n",
    "    for row in results:\n",
    "        for j in row:\n",
    "            f.write(str(j) + ' ')\n",
    "        f.write('\\n')\n",
    "    f.close()\n",
    "    return"
   ]
  },
  {
   "cell_type": "code",
   "execution_count": 56,
   "id": "b2e0d836",
   "metadata": {},
   "outputs": [],
   "source": [
    "def draw_kolvo_ari(kolvo_ari, num_cl, algo_name, is_two):\n",
    "    save_results_to_file(kolvo_ari, num_cl, 1, algo_name, is_two)\n",
    "    fig, ax = plt.subplots(figsize=(10, 5))\n",
    "    yrs = np.array([0, 10, 20, 30, 40, 50, 60, 70])\n",
    "    for i in range(len(kolvo_ari)):\n",
    "        ax.plot(yrs, kolvo_ari[i], color = colors[i], label = f'ARI, {list_of_kolvo[i]} consensus')\n",
    "    ax.set_title(f'ARI, {num_cl} clusters.')\n",
    "    ax.legend(loc='upper left')\n",
    "    ax.set_ylabel('Total debt')\n",
    "    ax.set_xlabel('Delete probality')\n",
    "    ax.set_xlim(xmin=yrs[0], xmax=yrs[-1])\n",
    "    ax.legend()\n",
    "    ax.grid()\n",
    "    fig.tight_layout()\n",
    "\n",
    "    plt.show()"
   ]
  },
  {
   "cell_type": "code",
   "execution_count": 57,
   "id": "281af569",
   "metadata": {},
   "outputs": [],
   "source": [
    "def draw_kolvo_ami(kolvo_ami, num_cl, algo_name, is_two):\n",
    "    save_results_to_file(kolvo_ami, num_cl, 0, algo_name, is_two)\n",
    "    fig, ax = plt.subplots(figsize=(10, 5))\n",
    "    yrs = np.array([0, 10, 20, 30, 40, 50, 60, 70])\n",
    "    for i in range(len(kolvo_ami)):\n",
    "        ax.plot(yrs, kolvo_ami[i], color = colors[i], label = f'AMI, {list_of_kolvo[i]} consensus')\n",
    "    ax.set_title(f'AMI, {num_cl} clusters.')\n",
    "    ax.legend(loc='upper left')\n",
    "    ax.set_ylabel('Total debt')\n",
    "    ax.set_xlabel('Delete probality')\n",
    "    ax.set_xlim(xmin=yrs[0], xmax=yrs[-1])\n",
    "    ax.legend()\n",
    "    ax.grid()\n",
    "    fig.tight_layout()\n",
    "\n",
    "    plt.show()"
   ]
  },
  {
   "cell_type": "code",
   "execution_count": null,
   "id": "b975556c",
   "metadata": {},
   "outputs": [],
   "source": []
  },
  {
   "cell_type": "markdown",
   "id": "82b73e34",
   "metadata": {},
   "source": [
    "## MCLA"
   ]
  },
  {
   "cell_type": "code",
   "execution_count": 64,
   "id": "b192095e",
   "metadata": {},
   "outputs": [
    {
     "name": "stdout",
     "output_type": "stream",
     "text": [
      "...25 10\n",
      "...25 25\n",
      "...25 50\n",
      "...25 75\n",
      "...25 100\n"
     ]
    },
    {
     "data": {
      "image/png": "[encoded data removed]",
      "text/plain": [
       "<Figure size 720x360 with 1 Axes>"
      ]
     },
     "metadata": {
      "needs_background": "light"
     },
     "output_type": "display_data"
    },
    {
     "data": {
      "image/png": "[encoded data removed]",
      "text/plain": [
       "<Figure size 720x360 with 1 Axes>"
      ]
     },
     "metadata": {
      "needs_background": "light"
     },
     "output_type": "display_data"
    }
   ],
   "source": [
    "test_st = 1\n",
    "test_end = 4\n",
    "\n",
    "\n",
    "for num_cl in list_of_num_clusters:\n",
    "    kolvo_ari = []\n",
    "    kolvo_ami = []\n",
    "    for kolvo in list_of_kolvo:\n",
    "        mid_ari = np.zeros(len(list_of_probability_out) + 1)\n",
    "        mid_ami = np.zeros(len(list_of_probability_out) + 1)\n",
    "        for test in range(test_st, test_end):\n",
    "            aries = [1]\n",
    "            amies = [1]\n",
    "            for prob in list_of_probability_out:\n",
    "                correct, vVib = load_test_mcla(num_cl, prob, test)\n",
    "                data = get_mcla_matrix(vVib, kolvo)\n",
    "\n",
    "                model = CE.cluster_ensembles(data, solver='mcla', random_state=my_random_seed)\n",
    "    #             print(model)\n",
    "    #             print(np.array(correct))\n",
    "                ari = sklearn.metrics.adjusted_rand_score(correct, model)\n",
    "                ami = sklearn.metrics.adjusted_mutual_info_score(correct, model)\n",
    "#                 print(num_cl, prob, ari, ami)\n",
    "                aries.append(ari)\n",
    "                amies.append(ami)\n",
    "            aries = np.array(aries)\n",
    "            amies = np.array(amies)\n",
    "            mid_ari += aries\n",
    "            mid_ami += amies\n",
    "            print('.', end='')\n",
    "        print(num_cl, kolvo)\n",
    "        mid_ami /= (test_end - test_st)\n",
    "        mid_ari /= (test_end - test_st)\n",
    "#         draw(mid_ari, mid_ami, num_cl, kolvo)\n",
    "        kolvo_ari.append(mid_ari)\n",
    "        kolvo_ami.append(mid_ami)\n",
    "    draw_kolvo_ari(kolvo_ari, num_cl, 'mcla', 0)\n",
    "    draw_kolvo_ami(kolvo_ami, num_cl, 'mcla', 0)"
   ]
  },
  {
   "cell_type": "code",
   "execution_count": null,
   "id": "4cbacf9b",
   "metadata": {},
   "outputs": [],
   "source": []
  },
  {
   "cell_type": "code",
   "execution_count": 35,
   "id": "9ecc8b36",
   "metadata": {},
   "outputs": [
    {
     "ename": "KeyboardInterrupt",
     "evalue": "",
     "output_type": "error",
     "traceback": [
      "\u001b[0;31m---------------------------------------------------------------------------\u001b[0m",
      "\u001b[0;31mKeyboardInterrupt\u001b[0m                         Traceback (most recent call last)",
      "Input \u001b[0;32mIn [35]\u001b[0m, in \u001b[0;36m<cell line: 3>\u001b[0;34m()\u001b[0m\n\u001b[1;32m      1\u001b[0m correct, vVib \u001b[38;5;241m=\u001b[39m load_test_mcla(\u001b[38;5;241m25\u001b[39m, \u001b[38;5;241m60\u001b[39m, \u001b[38;5;241m2\u001b[39m)\n\u001b[1;32m      2\u001b[0m data \u001b[38;5;241m=\u001b[39m get_mcla_matrix(vVib, \u001b[38;5;241m9\u001b[39m)\n\u001b[0;32m----> 3\u001b[0m model \u001b[38;5;241m=\u001b[39m \u001b[43mCE\u001b[49m\u001b[38;5;241;43m.\u001b[39;49m\u001b[43mcluster_ensembles\u001b[49m\u001b[43m(\u001b[49m\u001b[43mdata\u001b[49m\u001b[43m,\u001b[49m\u001b[43m \u001b[49m\u001b[43msolver\u001b[49m\u001b[38;5;241;43m=\u001b[39;49m\u001b[38;5;124;43m'\u001b[39;49m\u001b[38;5;124;43mmcla\u001b[39;49m\u001b[38;5;124;43m'\u001b[39;49m\u001b[43m,\u001b[49m\u001b[43m \u001b[49m\u001b[43mrandom_state\u001b[49m\u001b[38;5;241;43m=\u001b[39;49m\u001b[43mmy_random_seed\u001b[49m\u001b[43m)\u001b[49m\n\u001b[1;32m      5\u001b[0m ari \u001b[38;5;241m=\u001b[39m sklearn\u001b[38;5;241m.\u001b[39mmetrics\u001b[38;5;241m.\u001b[39madjusted_rand_score(correct, model)\n\u001b[1;32m      6\u001b[0m \u001b[38;5;28mprint\u001b[39m(\u001b[38;5;28mlen\u001b[39m(data))\n",
      "File \u001b[0;32m/usr/local/lib/python3.9/site-packages/ClusterEnsembles/ClusterEnsembles.py:370\u001b[0m, in \u001b[0;36mcluster_ensembles\u001b[0;34m(labels, nclass, solver, random_state, verbose)\u001b[0m\n\u001b[1;32m    368\u001b[0m     label_ce \u001b[38;5;241m=\u001b[39m hgpa(labels, nclass, random_state)\n\u001b[1;32m    369\u001b[0m \u001b[38;5;28;01melif\u001b[39;00m solver \u001b[38;5;241m==\u001b[39m \u001b[38;5;124m\"\u001b[39m\u001b[38;5;124mmcla\u001b[39m\u001b[38;5;124m\"\u001b[39m:\n\u001b[0;32m--> 370\u001b[0m     label_ce \u001b[38;5;241m=\u001b[39m \u001b[43mmcla\u001b[49m\u001b[43m(\u001b[49m\u001b[43mlabels\u001b[49m\u001b[43m,\u001b[49m\u001b[43m \u001b[49m\u001b[43mnclass\u001b[49m\u001b[43m,\u001b[49m\u001b[43m \u001b[49m\u001b[43mrandom_state\u001b[49m\u001b[43m)\u001b[49m\n\u001b[1;32m    371\u001b[0m \u001b[38;5;28;01melif\u001b[39;00m solver \u001b[38;5;241m==\u001b[39m \u001b[38;5;124m\"\u001b[39m\u001b[38;5;124mhbgf\u001b[39m\u001b[38;5;124m\"\u001b[39m:\n\u001b[1;32m    372\u001b[0m     label_ce \u001b[38;5;241m=\u001b[39m hbgf(labels, nclass)\n",
      "File \u001b[0;32m/usr/local/lib/python3.9/site-packages/ClusterEnsembles/ClusterEnsembles.py:177\u001b[0m, in \u001b[0;36mmcla\u001b[0;34m(labels, nclass, random_state)\u001b[0m\n\u001b[1;32m    175\u001b[0m hj \u001b[38;5;241m=\u001b[39m H\u001b[38;5;241m.\u001b[39mgetcol(j)\n\u001b[1;32m    176\u001b[0m norm_hj \u001b[38;5;241m=\u001b[39m (hj\u001b[38;5;241m.\u001b[39mT \u001b[38;5;241m*\u001b[39m hj)[\u001b[38;5;241m0\u001b[39m, \u001b[38;5;241m0\u001b[39m]\n\u001b[0;32m--> 177\u001b[0m inner_prod \u001b[38;5;241m=\u001b[39m (\u001b[43mhi\u001b[49m\u001b[38;5;241;43m.\u001b[39;49m\u001b[43mT\u001b[49m \u001b[38;5;241m*\u001b[39m hj)[\u001b[38;5;241m0\u001b[39m, \u001b[38;5;241m0\u001b[39m]\n\u001b[1;32m    178\u001b[0m W[i, j] \u001b[38;5;241m=\u001b[39m inner_prod \u001b[38;5;241m/\u001b[39m (norm_hi \u001b[38;5;241m+\u001b[39m norm_hj \u001b[38;5;241m-\u001b[39m inner_prod)\n\u001b[1;32m    179\u001b[0m W[j, i] \u001b[38;5;241m=\u001b[39m W[i, j]\n",
      "File \u001b[0;32m/usr/local/lib/python3.9/site-packages/scipy/sparse/_base.py:747\u001b[0m, in \u001b[0;36mspmatrix.__getattr__\u001b[0;34m(self, attr)\u001b[0m\n\u001b[1;32m    745\u001b[0m     \u001b[38;5;28;01mreturn\u001b[39;00m \u001b[38;5;28mself\u001b[39m\u001b[38;5;241m.\u001b[39mtoarray()\n\u001b[1;32m    746\u001b[0m \u001b[38;5;28;01melif\u001b[39;00m attr \u001b[38;5;241m==\u001b[39m \u001b[38;5;124m'\u001b[39m\u001b[38;5;124mT\u001b[39m\u001b[38;5;124m'\u001b[39m:\n\u001b[0;32m--> 747\u001b[0m     \u001b[38;5;28;01mreturn\u001b[39;00m \u001b[38;5;28;43mself\u001b[39;49m\u001b[38;5;241;43m.\u001b[39;49m\u001b[43mtranspose\u001b[49m\u001b[43m(\u001b[49m\u001b[43m)\u001b[49m\n\u001b[1;32m    748\u001b[0m \u001b[38;5;28;01melif\u001b[39;00m attr \u001b[38;5;241m==\u001b[39m \u001b[38;5;124m'\u001b[39m\u001b[38;5;124mH\u001b[39m\u001b[38;5;124m'\u001b[39m:\n\u001b[1;32m    749\u001b[0m     \u001b[38;5;28;01mif\u001b[39;00m \u001b[38;5;28mself\u001b[39m\u001b[38;5;241m.\u001b[39m_is_array:\n",
      "File \u001b[0;32m/usr/local/lib/python3.9/site-packages/scipy/sparse/_csc.py:116\u001b[0m, in \u001b[0;36mcsc_matrix.transpose\u001b[0;34m(self, axes, copy)\u001b[0m\n\u001b[1;32m    110\u001b[0m     \u001b[38;5;28;01mraise\u001b[39;00m \u001b[38;5;167;01mValueError\u001b[39;00m((\u001b[38;5;124m\"\u001b[39m\u001b[38;5;124mSparse matrices do not support \u001b[39m\u001b[38;5;124m\"\u001b[39m\n\u001b[1;32m    111\u001b[0m                       \u001b[38;5;124m\"\u001b[39m\u001b[38;5;124man \u001b[39m\u001b[38;5;124m'\u001b[39m\u001b[38;5;124maxes\u001b[39m\u001b[38;5;124m'\u001b[39m\u001b[38;5;124m parameter because swapping \u001b[39m\u001b[38;5;124m\"\u001b[39m\n\u001b[1;32m    112\u001b[0m                       \u001b[38;5;124m\"\u001b[39m\u001b[38;5;124mdimensions is the only logical permutation.\u001b[39m\u001b[38;5;124m\"\u001b[39m))\n\u001b[1;32m    114\u001b[0m M, N \u001b[38;5;241m=\u001b[39m \u001b[38;5;28mself\u001b[39m\u001b[38;5;241m.\u001b[39mshape\n\u001b[0;32m--> 116\u001b[0m \u001b[38;5;28;01mreturn\u001b[39;00m \u001b[38;5;28;43mself\u001b[39;49m\u001b[38;5;241;43m.\u001b[39;49m\u001b[43m_csr_container\u001b[49m\u001b[43m(\u001b[49m\u001b[43m(\u001b[49m\u001b[38;5;28;43mself\u001b[39;49m\u001b[38;5;241;43m.\u001b[39;49m\u001b[43mdata\u001b[49m\u001b[43m,\u001b[49m\u001b[43m \u001b[49m\u001b[38;5;28;43mself\u001b[39;49m\u001b[38;5;241;43m.\u001b[39;49m\u001b[43mindices\u001b[49m\u001b[43m,\u001b[49m\n\u001b[1;32m    117\u001b[0m \u001b[43m                            \u001b[49m\u001b[38;5;28;43mself\u001b[39;49m\u001b[38;5;241;43m.\u001b[39;49m\u001b[43mindptr\u001b[49m\u001b[43m)\u001b[49m\u001b[43m,\u001b[49m\u001b[43m \u001b[49m\u001b[43m(\u001b[49m\u001b[43mN\u001b[49m\u001b[43m,\u001b[49m\u001b[43m \u001b[49m\u001b[43mM\u001b[49m\u001b[43m)\u001b[49m\u001b[43m,\u001b[49m\u001b[43m \u001b[49m\u001b[43mcopy\u001b[49m\u001b[38;5;241;43m=\u001b[39;49m\u001b[43mcopy\u001b[49m\u001b[43m)\u001b[49m\n",
      "File \u001b[0;32m/usr/local/lib/python3.9/site-packages/scipy/sparse/_compressed.py:106\u001b[0m, in \u001b[0;36m_cs_matrix.__init__\u001b[0;34m(self, arg1, shape, dtype, copy)\u001b[0m\n\u001b[1;32m    103\u001b[0m \u001b[38;5;28;01mif\u001b[39;00m dtype \u001b[38;5;129;01mis\u001b[39;00m \u001b[38;5;129;01mnot\u001b[39;00m \u001b[38;5;28;01mNone\u001b[39;00m:\n\u001b[1;32m    104\u001b[0m     \u001b[38;5;28mself\u001b[39m\u001b[38;5;241m.\u001b[39mdata \u001b[38;5;241m=\u001b[39m \u001b[38;5;28mself\u001b[39m\u001b[38;5;241m.\u001b[39mdata\u001b[38;5;241m.\u001b[39mastype(dtype, copy\u001b[38;5;241m=\u001b[39m\u001b[38;5;28;01mFalse\u001b[39;00m)\n\u001b[0;32m--> 106\u001b[0m \u001b[38;5;28;43mself\u001b[39;49m\u001b[38;5;241;43m.\u001b[39;49m\u001b[43mcheck_format\u001b[49m\u001b[43m(\u001b[49m\u001b[43mfull_check\u001b[49m\u001b[38;5;241;43m=\u001b[39;49m\u001b[38;5;28;43;01mFalse\u001b[39;49;00m\u001b[43m)\u001b[49m\n",
      "\u001b[0;31mKeyboardInterrupt\u001b[0m: "
     ]
    }
   ],
   "source": [
    "correct, vVib = load_test_mcla(25, 60, 2)\n",
    "data = get_mcla_matrix(vVib, 9)\n",
    "model = CE.cluster_ensembles(data, solver='mcla', random_state=my_random_seed)\n",
    "\n",
    "ari = sklearn.metrics.adjusted_rand_score(correct, model)\n",
    "print(len(data))\n",
    "print(ari)\n",
    "print(correct)\n",
    "print(model)"
   ]
  },
  {
   "cell_type": "code",
   "execution_count": null,
   "id": "c685cad5",
   "metadata": {},
   "outputs": [],
   "source": []
  }
 ],
 "metadata": {
  "kernelspec": {
   "display_name": "Python 3 (ipykernel)",
   "language": "python",
   "name": "python3"
  },
  "language_info": {
   "codemirror_mode": {
    "name": "ipython",
    "version": 3
   },
   "file_extension": ".py",
   "mimetype": "text/x-python",
   "name": "python",
   "nbconvert_exporter": "python",
   "pygments_lexer": "ipython3",
   "version": "3.9.7"
  }
 },
 "nbformat": 4,
 "nbformat_minor": 5
}
