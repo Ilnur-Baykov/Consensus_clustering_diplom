{
 "cells": [
  {
   "cell_type": "markdown",
   "id": "45740e57",
   "metadata": {},
   "source": [
    "# Генерация тестовых данных"
   ]
  },
  {
   "cell_type": "code",
   "execution_count": 10,
   "id": "40e175e9",
   "metadata": {},
   "outputs": [],
   "source": [
    "import copy\n",
    "# import networkx as nx\n",
    "import scipy as sp\n",
    "import matplotlib.pyplot as plt\n",
    "import numpy as np\n",
    "import random\n",
    "import sklearn\n",
    "from sklearn.cluster import AgglomerativeClustering\n",
    "from sklearn.cluster import KMeans\n",
    "\n",
    "import matplotlib.pyplot as plt\n",
    "import math\n",
    "\n",
    "import warnings\n",
    "warnings.filterwarnings('ignore')"
   ]
  },
  {
   "cell_type": "code",
   "execution_count": 11,
   "id": "c0f822d0",
   "metadata": {},
   "outputs": [],
   "source": [
    "list_of_num_vertices = np.array([1000])\n",
    "list_of_num_clusters = np.array([3, 7, 15, 25])\n",
    "list_of_probability_out = np.array([0.1, 0.2, 0.3, 0.4, 0.5, 0.6, 0.7])\n",
    "num_tests = 1\n",
    "num_viborka = 100"
   ]
  },
  {
   "cell_type": "code",
   "execution_count": 12,
   "id": "cd990fa8",
   "metadata": {},
   "outputs": [],
   "source": [
    "my_random_seed = 23\n",
    "np.random.seed(my_random_seed)"
   ]
  },
  {
   "cell_type": "code",
   "execution_count": 13,
   "id": "7447dc03",
   "metadata": {},
   "outputs": [],
   "source": [
    "def get_random_list_with_sum(lenth, total_sum):\n",
    "    full_rand = np.random.rand(lenth)\n",
    "    full_rand /= np.sum(full_rand)\n",
    "    full_rand *= total_sum\n",
    "    full_rand = full_rand.astype(int)\n",
    "    full_rand[np.where(full_rand == 0)[0]] += 1\n",
    "    diff = total_sum - np.sum(full_rand)\n",
    "#     print(diff)\n",
    "    if (diff >= 0):\n",
    "        full_rand[-1] += diff\n",
    "    else:\n",
    "        full_rand[np.where(full_rand > diff)[0][0]] += diff\n",
    "    return full_rand"
   ]
  },
  {
   "cell_type": "code",
   "execution_count": 14,
   "id": "e9381625",
   "metadata": {},
   "outputs": [],
   "source": [
    "def get_good_list_of_list(vec_nums):\n",
    "    answer = []\n",
    "    start = 1\n",
    "    for el in vec_nums:\n",
    "        row = np.arange(start, start + el, 1)\n",
    "        start += el\n",
    "        answer.append(row)\n",
    "    return answer"
   ]
  },
  {
   "cell_type": "code",
   "execution_count": 15,
   "id": "3da49a28",
   "metadata": {},
   "outputs": [],
   "source": [
    "def get_viborka(correct, probability):\n",
    "    all_len = len(correct)\n",
    "    append_list = []\n",
    "    for i in range(len(correct)):\n",
    "        prob = np.random.rand(len(correct[i]))\n",
    "        index = np.where(probability >= prob)[0]\n",
    "        append_list.append(correct[i][index])\n",
    "        correct[i] = np.delete(correct[i], index)\n",
    "    idi = 0\n",
    "#     print(append_list)\n",
    "    for row in append_list:\n",
    "        for el in row:\n",
    "            index = np.random.randint(all_len)\n",
    "            while (index == idi):\n",
    "                index = np.random.randint(all_len)\n",
    "            correct[index] = np.append(correct[index], el)\n",
    "        idi += 1\n",
    "    return correct"
   ]
  },
  {
   "cell_type": "code",
   "execution_count": 16,
   "id": "4b4d603d",
   "metadata": {},
   "outputs": [],
   "source": [
    "def print_list_of_list(v, f):\n",
    "    for raw in v:\n",
    "        for el in raw:\n",
    "            f.write(str(el) + ' ')\n",
    "        f.write('\\n')\n",
    "    return"
   ]
  },
  {
   "cell_type": "code",
   "execution_count": 17,
   "id": "3f63235f",
   "metadata": {},
   "outputs": [],
   "source": [
    "for test in range(num_tests, 51):\n",
    "    for num_ver in list_of_num_vertices:\n",
    "#         print(len(list_of_num_clusters))\n",
    "        for num_cl in list_of_num_clusters:\n",
    "            vec_nums = get_random_list_with_sum(num_cl, num_ver)\n",
    "            correct = get_good_list_of_list(vec_nums)\n",
    "\n",
    "#             print(len(list_of_probability_out))\n",
    "            for prob in list_of_probability_out:\n",
    "                name = '/Users/ilnurbaykov/HomeWork/diplom/tests/' + f'clusters{num_cl}/' + f'prob0_{int(prob * 100)}/' + f'test_{test}.txt' \n",
    "                f = open(name, 'w+')\n",
    "#                 print(name)\n",
    "                f.write(str(num_cl) + '\\n')\n",
    "                print_list_of_list(correct, f)\n",
    "                f.write(str(prob) + '\\n')\n",
    "                f.write(str(num_viborka) + '\\n')\n",
    "                for num_of_viborka in range(num_viborka):\n",
    "                    my_deepcopy = copy.deepcopy(correct)\n",
    "                    viborka = get_viborka(my_deepcopy, prob)\n",
    "                    print_list_of_list(viborka, f)\n",
    "                f.close()"
   ]
  },
  {
   "cell_type": "code",
   "execution_count": 78,
   "id": "92bfb11b",
   "metadata": {},
   "outputs": [
    {
     "data": {
      "text/plain": [
       "'/Users/ilnurbaykov/HomeWork/diplom'"
      ]
     },
     "execution_count": 78,
     "metadata": {},
     "output_type": "execute_result"
    }
   ],
   "source": [
    "pwd"
   ]
  },
  {
   "cell_type": "code",
   "execution_count": null,
   "id": "7dbdd6da",
   "metadata": {},
   "outputs": [],
   "source": [
    "+ f'prob0_{int(prob * 100)}/' "
   ]
  },
  {
   "cell_type": "code",
   "execution_count": 53,
   "id": "c124ede4",
   "metadata": {},
   "outputs": [
    {
     "name": "stdout",
     "output_type": "stream",
     "text": [
      "[[1 2 3]] [[1]\n",
      " [2]\n",
      " [3]]\n",
      "[[1 2 3]\n",
      " [2 4 6]\n",
      " [3 6 9]]\n"
     ]
    }
   ],
   "source": [
    "a = np.array([1, 2, 3])\n",
    "a = a.reshape(1, 3)\n",
    "b = np.array([1, 2, 3])\n",
    "b = b.reshape(3, 1)\n",
    "print(a, b)\n",
    "print(a *  b)\n"
   ]
  },
  {
   "cell_type": "code",
   "execution_count": 2,
   "id": "7a2f5bc0",
   "metadata": {},
   "outputs": [],
   "source": []
  },
  {
   "cell_type": "code",
   "execution_count": null,
   "id": "f1e34bb2",
   "metadata": {},
   "outputs": [],
   "source": []
  },
  {
   "cell_type": "code",
   "execution_count": null,
   "id": "5c0ea08b",
   "metadata": {},
   "outputs": [],
   "source": []
  }
 ],
 "metadata": {
  "kernelspec": {
   "display_name": "Python 3 (ipykernel)",
   "language": "python",
   "name": "python3"
  },
  "language_info": {
   "codemirror_mode": {
    "name": "ipython",
    "version": 3
   },
   "file_extension": ".py",
   "mimetype": "text/x-python",
   "name": "python",
   "nbconvert_exporter": "python",
   "pygments_lexer": "ipython3",
   "version": "3.9.7"
  }
 },
 "nbformat": 4,
 "nbformat_minor": 5
}
